{
  "nbformat": 4,
  "nbformat_minor": 0,
  "metadata": {
    "colab": {
      "name": "15octubre_1310.ipynb",
      "provenance": [],
      "authorship_tag": "ABX9TyOiMeZIIXrl6cSbXzN/wwC7",
      "include_colab_link": true
    },
    "kernelspec": {
      "name": "python3",
      "display_name": "Python 3"
    }
  },
  "cells": [
    {
      "cell_type": "markdown",
      "metadata": {
        "id": "view-in-github",
        "colab_type": "text"
      },
      "source": [
        "<a href=\"https://colab.research.google.com/github/JarethManrique/edd_1310_2021/blob/master/15octubre_1310.ipynb\" target=\"_parent\"><img src=\"https://colab.research.google.com/assets/colab-badge.svg\" alt=\"Open In Colab\"/></a>"
      ]
    },
    {
      "cell_type": "code",
      "metadata": {
        "id": "RsA-fY1F_mLj"
      },
      "source": [
        ""
      ],
      "execution_count": null,
      "outputs": []
    },
    {
      "cell_type": "markdown",
      "metadata": {
        "id": "cbSfSPcQByLY"
      },
      "source": [
        "# Módulos \n",
        "Son recursos reutilizables que contienen varias funciones que pueden ser importadas a tu código."
      ]
    },
    {
      "cell_type": "code",
      "metadata": {
        "id": "fiP6eNapB_WG",
        "outputId": "02741939-c2f9-4592-f90e-229739944e3b",
        "colab": {
          "base_uri": "https://localhost:8080/",
          "height": 35
        }
      },
      "source": [
        "\"\"\"\n",
        "import mi_modulo\n",
        "\n",
        "x= mi_modulo.sumar(4,7)\n",
        "print(x)\n",
        "print(mi_modulo.multiplicar(3,5))\n",
        "\"\"\"\n"
      ],
      "execution_count": 6,
      "outputs": [
        {
          "output_type": "execute_result",
          "data": {
            "application/vnd.google.colaboratory.intrinsic+json": {
              "type": "string"
            },
            "text/plain": [
              "'\\nimport mi_modulo\\n\\nx= mi_modulo.sumar(4,7)\\nprint(x)\\nprint(mi_modulo.multiplicar(3,5))\\n'"
            ]
          },
          "metadata": {
            "tags": []
          },
          "execution_count": 6
        }
      ]
    },
    {
      "cell_type": "code",
      "metadata": {
        "id": "I2w8Ml11KUxt",
        "outputId": "b916da7d-1bdc-4851-80c8-99c34b0f84d9",
        "colab": {
          "base_uri": "https://localhost:8080/",
          "height": 34
        }
      },
      "source": [
        "from mi_modulo import sumar\n",
        "print(sumar(4,7))"
      ],
      "execution_count": 8,
      "outputs": [
        {
          "output_type": "stream",
          "text": [
            "11\n"
          ],
          "name": "stdout"
        }
      ]
    },
    {
      "cell_type": "code",
      "metadata": {
        "id": "1miVlFekLOw-",
        "outputId": "ba487975-d52d-416c-b46e-4ae9110126d7",
        "colab": {
          "base_uri": "https://localhost:8080/",
          "height": 34
        }
      },
      "source": [
        "import mi_modulo as patito\n",
        "print(patito.sumar(4,6))"
      ],
      "execution_count": 11,
      "outputs": [
        {
          "output_type": "stream",
          "text": [
            "10\n"
          ],
          "name": "stdout"
        }
      ]
    },
    {
      "cell_type": "code",
      "metadata": {
        "id": "reaZk7z2OFGk",
        "outputId": "a8e84b31-41f1-4180-fc51-5037fc2f76d3",
        "colab": {
          "base_uri": "https://localhost:8080/",
          "height": 35
        }
      },
      "source": [
        "from joke_generator import generate\n",
        "\n",
        "generate()"
      ],
      "execution_count": 15,
      "outputs": [
        {
          "output_type": "execute_result",
          "data": {
            "application/vnd.google.colaboratory.intrinsic+json": {
              "type": "string"
            },
            "text/plain": [
              "'Why did the opera singer go sailing? They wanted to hit the high Cs.'"
            ]
          },
          "metadata": {
            "tags": []
          },
          "execution_count": 15
        }
      ]
    },
    {
      "cell_type": "markdown",
      "metadata": {
        "id": "XxHfFkjeSRIx"
      },
      "source": [
        "# Archivos\n",
        "- Open (str, str)\n",
        "  1.- Nombre o ruta del archivo\n",
        "  2.- 2 caracteres\n",
        "    - El modo de apertura del archivo (r,w,a)\n",
        "    - Formato del archivo (txt o bin)\n"
      ]
    },
    {
      "cell_type": "code",
      "metadata": {
        "id": "QwMImBOySt-x"
      },
      "source": [
        "archivo=open(\"saludo.txt\",\"wt\")\n",
        "archivo.write(\"Hola mundo \\n Ola ke aze\")\n",
        "archivo.close()"
      ],
      "execution_count": 18,
      "outputs": []
    },
    {
      "cell_type": "code",
      "metadata": {
        "id": "b--ea90qUdFk",
        "outputId": "7cf7280d-e910-4312-ef2b-8e3aa491db09",
        "colab": {
          "base_uri": "https://localhost:8080/",
          "height": 153
        }
      },
      "source": [
        "\"\"\"\n",
        "otro=open(\"./sample_data/anscombe.json\",\"rt\")\n",
        "datos=otro.read()\n",
        "print(datos)\n",
        "otro.close()\n",
        "\"\"\"\n",
        "arch = open('frutas.txt','rt')\n",
        "data = 'ppp'\n",
        "while (data != ''):\n",
        "  data = arch.readline()\n",
        "  print(data)\n",
        "arch.close()\n",
        "\n",
        "arch = open(\"frutas.txt\",\"rt\")\n",
        "list_frutas = arch.readlines()\n",
        "print(list_frutas)\n",
        "arch.close()"
      ],
      "execution_count": 30,
      "outputs": [
        {
          "output_type": "stream",
          "text": [
            "Manzana, Pera,  Kiwi, Aguacate\n",
            "\n",
            "Limón, Naranja\n",
            "\n",
            "Sandia, Papaya\n",
            "\n",
            "\n",
            "['Manzana, Pera,  Kiwi, Aguacate\\n', 'Limón, Naranja\\n', 'Sandia, Papaya\\n']\n"
          ],
          "name": "stdout"
        }
      ]
    }
  ]
}