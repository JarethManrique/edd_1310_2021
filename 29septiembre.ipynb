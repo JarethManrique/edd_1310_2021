{
  "nbformat": 4,
  "nbformat_minor": 0,
  "metadata": {
    "colab": {
      "name": "Untitled0.ipynb",
      "provenance": [],
      "toc_visible": true,
      "authorship_tag": "ABX9TyNORnqLT67Uk8yxi7Kfwc3L",
      "include_colab_link": true
    },
    "kernelspec": {
      "name": "python3",
      "display_name": "Python 3"
    }
  },
  "cells": [
    {
      "cell_type": "markdown",
      "metadata": {
        "id": "view-in-github",
        "colab_type": "text"
      },
      "source": [
        "<a href=\"https://colab.research.google.com/github/JarethManrique/edd_1310_2021/blob/master/29septiembre.ipynb\" target=\"_parent\"><img src=\"https://colab.research.google.com/assets/colab-badge.svg\" alt=\"Open In Colab\"/></a>"
      ]
    },
    {
      "cell_type": "code",
      "metadata": {
        "id": "AQcayrs_stS_"
      },
      "source": [
        "edad = 10"
      ],
      "execution_count": 2,
      "outputs": []
    },
    {
      "cell_type": "code",
      "metadata": {
        "id": "Lh9DM4LgvNDV",
        "outputId": "d0dfbc1b-22ef-426f-a8aa-14aa4e602b56",
        "colab": {
          "base_uri": "https://localhost:8080/",
          "height": 119
        }
      },
      "source": [
        "print(edad)\n",
        "colores = ['rojo','azul','amarillo','verde']\n",
        "print(colores)\n",
        "print(colores[3])\n",
        "print(colores[3][2:4])\n",
        "nombre = 'Alberto'\n",
        "print(nombre[0])\n",
        "print(nombre[0:3:1])\n"
      ],
      "execution_count": 5,
      "outputs": [
        {
          "output_type": "stream",
          "text": [
            "10\n",
            "['rojo', 'azul', 'amarillo', 'verde']\n",
            "verde\n",
            "rd\n",
            "a\n",
            "alb\n"
          ],
          "name": "stdout"
        }
      ]
    },
    {
      "cell_type": "markdown",
      "metadata": {
        "id": "QZBwSWxQyZBb"
      },
      "source": [
        "# For en Python\n",
        "2 variantes\n",
        "1. in range(inicio:tope:incremento)\n",
        "2. in [iterador]"
      ]
    },
    {
      "cell_type": "code",
      "metadata": {
        "id": "zbypesadyCgF",
        "outputId": "8c1209cc-4698-455f-f203-e7defa58efc4",
        "colab": {
          "base_uri": "https://localhost:8080/",
          "height": 85
        }
      },
      "source": [
        "for j in range(0,4,1):\n",
        "  print(colores[j])"
      ],
      "execution_count": 7,
      "outputs": [
        {
          "output_type": "stream",
          "text": [
            "rojo\n",
            "azul\n",
            "amarillo\n",
            "verde\n"
          ],
          "name": "stdout"
        }
      ]
    },
    {
      "cell_type": "code",
      "metadata": {
        "id": "VIqkC-tNz1Ww",
        "outputId": "50ca100a-ee7b-4ad8-b74b-56188d9915dd",
        "colab": {
          "base_uri": "https://localhost:8080/",
          "height": 85
        }
      },
      "source": [
        "for color in colores:\n",
        "  print(color)"
      ],
      "execution_count": 8,
      "outputs": [
        {
          "output_type": "stream",
          "text": [
            "rojo\n",
            "azul\n",
            "amarillo\n",
            "verde\n"
          ],
          "name": "stdout"
        }
      ]
    },
    {
      "cell_type": "code",
      "metadata": {
        "id": "Pynab8jG04hJ",
        "outputId": "425ca6e7-f3a9-4fcb-bbaa-723eb014d872",
        "colab": {
          "base_uri": "https://localhost:8080/",
          "height": 136
        }
      },
      "source": [
        "for j in range(0,len(nombre),1):\n",
        "  print(nombre[j])"
      ],
      "execution_count": 9,
      "outputs": [
        {
          "output_type": "stream",
          "text": [
            "a\n",
            "l\n",
            "b\n",
            "e\n",
            "r\n",
            "t\n",
            "o\n"
          ],
          "name": "stdout"
        }
      ]
    },
    {
      "cell_type": "code",
      "metadata": {
        "id": "HS4aExhF1Byb",
        "outputId": "6490edbd-6eab-4cd1-e4c1-444df53bc907",
        "colab": {
          "base_uri": "https://localhost:8080/",
          "height": 136
        }
      },
      "source": [
        "for nom in nombre:\n",
        "  print(nom)"
      ],
      "execution_count": 10,
      "outputs": [
        {
          "output_type": "stream",
          "text": [
            "a\n",
            "l\n",
            "b\n",
            "e\n",
            "r\n",
            "t\n",
            "o\n"
          ],
          "name": "stdout"
        }
      ]
    },
    {
      "cell_type": "markdown",
      "metadata": {
        "id": "pcKSoqNA1lNt"
      },
      "source": [
        "# Que es Markdown\n",
        "Markdown es un lenguaje de marcado para documentar codigo. El objetivo es simplificar la escritura del leguaje HTML.\n",
        "___\n",
        "**negritas**\n",
        "---\n",
        "o\n",
        "***\n",
        "Más información en: [Github Markdown](https://github.com/adam-p/markdown-here/wiki/Markdown-Cheatsheet)\n",
        "***\n",
        "![loqsea](https://i.ytimg.com/vi/n_KrxgXrU4w/maxresdefault.jpg)\n"
      ]
    },
    {
      "cell_type": "code",
      "metadata": {
        "id": "n4kzyGmd27pC"
      },
      "source": [
        ""
      ],
      "execution_count": null,
      "outputs": []
    }
  ]
}