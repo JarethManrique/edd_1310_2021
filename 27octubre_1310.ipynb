{
  "nbformat": 4,
  "nbformat_minor": 0,
  "metadata": {
    "colab": {
      "name": "27octubre_1310.ipynb",
      "provenance": [],
      "authorship_tag": "ABX9TyM5WnsSHjNu+vI/8lX7OGdS",
      "include_colab_link": true
    },
    "kernelspec": {
      "name": "python3",
      "display_name": "Python 3"
    }
  },
  "cells": [
    {
      "cell_type": "markdown",
      "metadata": {
        "id": "view-in-github",
        "colab_type": "text"
      },
      "source": [
        "<a href=\"https://colab.research.google.com/github/JarethManrique/edd_1310_2021/blob/master/27octubre_1310.ipynb\" target=\"_parent\"><img src=\"https://colab.research.google.com/assets/colab-badge.svg\" alt=\"Open In Colab\"/></a>"
      ]
    },
    {
      "cell_type": "code",
      "metadata": {
        "id": "vnaINk3iASW9",
        "outputId": "f65eb0b6-9ec5-47dc-94b7-29aa3186e6e2",
        "colab": {
          "base_uri": "https://localhost:8080/",
          "height": 51
        }
      },
      "source": [
        "class Computadora:\n",
        "    def __init__( self , m , p):\n",
        "        self.__marca = m  #Si a una variable o atributo se pone como __ se vuelve privado, no se puede modificar fuera de la clase\n",
        "        self.__procesador = p\n",
        "\n",
        "    def to_string( self ):\n",
        "        return \"Marca:\"+self.__marca+\" Procesador:\"+self.__procesador\n",
        "\n",
        "    def set_marca( self , m ):\n",
        "      self.__marca = m\n",
        "\n",
        "    def get_marca( self ):\n",
        "      return self.__marca\n",
        "\n",
        "    def set_procesador( self , p ):\n",
        "      self.__procesador\n",
        "\n",
        "    def get_procesador( self):\n",
        "      return self.__procesador\n",
        "\n",
        "mi_pc = Computadora(\"Toshiba\",\"Intel i7\")\n",
        "print(mi_pc.to_string())\n",
        "mi_pc.__marca=\"HP \"  # Intentando cambiar el valor privado (no fue cambiada)\n",
        "mi_pc.set_marca(\"HP co.\")\n",
        "print(mi_pc.to_string())"
      ],
      "execution_count": 4,
      "outputs": [
        {
          "output_type": "stream",
          "text": [
            "Marca:Toshiba Procesador:Intel i7\n",
            "Marca:HP co. Procesador:Intel i7\n"
          ],
          "name": "stdout"
        }
      ]
    },
    {
      "cell_type": "markdown",
      "metadata": {
        "id": "RsmdJ_RFEKG4"
      },
      "source": [
        "# Encapsulamiento en Python 3\n",
        "## Tradicional tipo Java\n",
        "    void setAtributo(val)\n",
        "    tipo getAtributo()\n",
        "\n",
        "### Estilo Python 3\n",
        "UTILIZANDO DECORADORES\n",
        "- @property\n",
        "- @atributo.setter"
      ]
    },
    {
      "cell_type": "code",
      "metadata": {
        "id": "pjH7hyO4H69h",
        "outputId": "016eb511-cfff-4802-fe33-15703a5fa348",
        "colab": {
          "base_uri": "https://localhost:8080/",
          "height": 102
        }
      },
      "source": [
        "class Computadora:\n",
        "  def __init__( self , m , p ):\n",
        "    self.marca = m # Se manda llamar el decorador @property\n",
        "    self.procesador = p # idem\n",
        "\n",
        "  @property   # se declara comoa atributo privado y funciona como método get\n",
        "  def marca( self ):\n",
        "    return self.__marca\n",
        "  @marca.setter\n",
        "  def marca( self , m ):\n",
        "    print(\"En el setter de marca\")\n",
        "    self.__marca=m\n",
        "  @property\n",
        "  def procesador(self ):\n",
        "    return self.__procesador\n",
        "  @procesador.setter\n",
        "  def procesador( self, p):\n",
        "    print(\"En el método set de procesador\")\n",
        "    self.__procesador=p\n",
        "  \n",
        "  def to_string( self ):\n",
        "    return \"Marca: \" +self.marca + \"Procesador: \"+self.procesador\n",
        "\n",
        "mi_pc2 = Computadora(\"MacBook Pro\",\"Intel i7\")\n",
        "print(mi_pc2.to_string())\n",
        "mi_pc2.marca = \"Dell \"\n",
        "print(mi_pc2.to_string())"
      ],
      "execution_count": 10,
      "outputs": [
        {
          "output_type": "stream",
          "text": [
            "En el setter de marca\n",
            "En el método set de procesador\n",
            "Marca: MacBook ProProcesador: Intel i7\n",
            "En el setter de marca\n",
            "Marca: Dell Procesador: Intel i7\n"
          ],
          "name": "stdout"
        }
      ]
    },
    {
      "cell_type": "code",
      "metadata": {
        "id": "-njqMiwmQk_C",
        "outputId": "5ba61499-63ba-4016-fbcc-98a7df468f18",
        "colab": {
          "base_uri": "https://localhost:8080/",
          "height": 85
        }
      },
      "source": [
        "# Herencia, pasando la clase base a la declaración\n",
        "class ServidorEmpresarial(Computadora):\n",
        "  def __init__( self ):\n",
        "    print(\"Hola servidor\")\n",
        "\n",
        "server=ServidorEmpresarial()\n",
        "server.marca = \"Sun Micro Systems\"\n",
        "server.procesador = \"Intel i7\"\n",
        "print(server.to_string())"
      ],
      "execution_count": 13,
      "outputs": [
        {
          "output_type": "stream",
          "text": [
            "Hola servidor\n",
            "En el setter de marca\n",
            "En el método set de procesador\n",
            "Marca: Sun Micro SystemsProcesador: Intel i7\n"
          ],
          "name": "stdout"
        }
      ]
    }
  ]
}