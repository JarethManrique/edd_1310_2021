{
  "nbformat": 4,
  "nbformat_minor": 0,
  "metadata": {
    "colab": {
      "name": "13ocubre_1310.ipynb",
      "provenance": [],
      "authorship_tag": "ABX9TyOe2wleWHupNf9wIj9LxI3s",
      "include_colab_link": true
    },
    "kernelspec": {
      "name": "python3",
      "display_name": "Python 3"
    }
  },
  "cells": [
    {
      "cell_type": "markdown",
      "metadata": {
        "id": "view-in-github",
        "colab_type": "text"
      },
      "source": [
        "<a href=\"https://colab.research.google.com/github/JarethManrique/edd_1310_2021/blob/master/13ocubre_1310.ipynb\" target=\"_parent\"><img src=\"https://colab.research.google.com/assets/colab-badge.svg\" alt=\"Open In Colab\"/></a>"
      ]
    },
    {
      "cell_type": "code",
      "metadata": {
        "id": "XHVIOHuHs75M"
      },
      "source": [
        "alumno = { \n",
        "          \"num_cta\" : 303030303 ,\n",
        "          \"carrera\" : \"ICO\",\n",
        "          \"promedio\" : 9.8,\n",
        "          \"materias\" :[\"EDD\",\"CyP\",\"Calidad\",\"Emprendimiento\"],\n",
        "          \"direccion\" : { \n",
        "                            \"calle\":\"rancho seco\",\n",
        "                            \"numero\" : 23 ,\n",
        "                            \"delegacion\" : \"Neza\",\n",
        "                            \"estado\" : {\n",
        "                                        \"id\" : 15 ,\n",
        "                                        \"nombre\" : \"Estado de Máxico\" ,\n",
        "                                        \"nombre_corto\" : \"EdoMex\"\n",
        "                                        } ,\n",
        "                            \"CP\":57170\n",
        "\n",
        "                        } \n",
        "          }\n",
        "print(alumno)\n",
        "alumno[\"carrera\"]=\"Ingeniería en Computación\"\n",
        "print(alumno)\n",
        "alumno[\"nombre_completo\"]={\"primer\":\"Juan\",\n",
        "                           \"segundo\":\"Pedro\",\n",
        "                           \"materno\":\"Pérez\",\n",
        "                           \"paterno\":\"Gómez\"}\n",
        "alumno[\"semestre\"]=3\n",
        "print(alumno)\n",
        "print(f\"{alumno['nombre_completo']['primer']} {alumno['nombre_completo']['segundo']}\")\n"
      ],
      "execution_count": null,
      "outputs": []
    },
    {
      "cell_type": "code",
      "metadata": {
        "id": "bdm6mxfLx9Vz"
      },
      "source": [
        "# Key, Values() e items()\n",
        "\n",
        "llaves=alumno.keys()\n",
        "for llave in llaves:\n",
        "  print(llave.upper())\n",
        "\n",
        "valores=alumno.values()\n",
        "for val in valores:\n",
        "  print(val)\n",
        "\n",
        "pares=alumno.items()\n",
        "print(pares)\n",
        "\n",
        "for elem in pares:\n",
        "  print(f\"El campo {elem[0]} tiene el valor {elem[1]}\")"
      ],
      "execution_count": null,
      "outputs": []
    },
    {
      "cell_type": "code",
      "metadata": {
        "id": "F4drXZK2073-",
        "outputId": "45ecd88a-0ea1-41a6-888c-f837ea4b2ef6",
        "colab": {
          "base_uri": "https://localhost:8080/",
          "height": 34
        }
      },
      "source": [
        "computadora = {\"procesador\":\"Intel i7\",\"ram\":\"Kingston 128GB\"}\n",
        "otros= {\"monitor\":\"LG 49\",\"hd\":\"Toshiba 1TB\"}\n",
        "computadora.update(otros)\n",
        "print(computadora)"
      ],
      "execution_count": 17,
      "outputs": [
        {
          "output_type": "stream",
          "text": [
            "{'procesador': 'Intel i7', 'ram': 'Kingston 128GB', 'monitor': 'LG 49', 'hd': 'Toshiba 1TB'}\n"
          ],
          "name": "stdout"
        }
      ]
    },
    {
      "cell_type": "markdown",
      "metadata": {
        "id": "v5KRg6PB2u05"
      },
      "source": [
        "# Funciones\n",
        "- unidades de codigo reutilizables\n",
        "- es un mecanismo de organización de código\n",
        "- una función toma de 0 a n parámetros de entrada\n",
        "- tiene una sola salida (return) de cualquier tipo de dato\n",
        "- solo puedes hacer dos cosas :\n",
        "   - definirla\n",
        "   - llamarla\n",
        "- se definen con la palabra reservada 'def'"
      ]
    },
    {
      "cell_type": "code",
      "metadata": {
        "id": "oF_YvkbS36e_",
        "outputId": "29f1bd78-756c-434d-cd1d-fdade29e8595",
        "colab": {
          "base_uri": "https://localhost:8080/",
          "height": 153
        }
      },
      "source": [
        "def sumar(x , y):\n",
        "  resultado = x + y\n",
        "  return resultado\n",
        "\n",
        "def saludar(nombre):\n",
        "  print(f\"Hola {nombre}, ¿Cómo estás?\")\n",
        "  return None\n",
        "\n",
        "# Procesar None\n",
        "def multiplicar(valor, veces):\n",
        "  if valor !=None:\n",
        "      c=valor*veces\n",
        "  else:\n",
        "      c=\"Operación no válida\"\n",
        "  return c\n",
        "\n",
        "def operacion(a,b,c):\n",
        "  res = a+(b/c)\n",
        "  return res\n",
        "\n",
        "print(sumar(10, 5))\n",
        "print(sumar(2, 6))\n",
        "saludar(\"Jareth\")\n",
        "print(multiplicar(5,6))\n",
        "print(multiplicar(None,6))\n",
        "\n",
        "print(operacion(2,9,3))\n",
        "print(operacion(2,3,9))\n",
        "print(operacion(a=2,c=3,b=9))"
      ],
      "execution_count": 28,
      "outputs": [
        {
          "output_type": "stream",
          "text": [
            "15\n",
            "8\n",
            "Hola Jareth, ¿Cómo estás?\n",
            "30\n",
            "Operación no válida\n",
            "5.0\n",
            "2.3333333333333335\n",
            "5.0\n"
          ],
          "name": "stdout"
        }
      ]
    },
    {
      "cell_type": "code",
      "metadata": {
        "id": "9R7oQx0E-l9T",
        "outputId": "151f16f1-50ad-4c9b-e9e2-bfb50697cc02",
        "colab": {
          "base_uri": "https://localhost:8080/",
          "height": 153
        }
      },
      "source": [
        "# Valores por defecto\n",
        "def comanda(primer, fuerte, postre):\n",
        "  print(f\"De entrada pidió: {primer}\")\n",
        "  print(f\"De plato fuerte pidió: {fuerte}\")\n",
        "  print(f\"De postre pidió: {postre}\")\n",
        "\n",
        "# Argumentos posicionales con tuplas *\n",
        "def comanda2( *opciones ):\n",
        "  print(opciones)\n",
        "  print(f\"De entrada pidió: {opciones[0]}\")\n",
        "  print(f\"De plato fuerte pidió: {opciones[1]}\")\n",
        "  print(f\"De postre pidió: {opciones[2]}\")\n",
        "  for ind in opciones[3::]:\n",
        "\n",
        "\n",
        "comanda(\"sopa\",\"tortas\",\"gelatina\")\n",
        "print(\"-------------------------------\")\n",
        "comanda2(\"sopa\",\"tortas\",\"gelatina\",\"las tortas bien doradas, traer 2 limones\")"
      ],
      "execution_count": 36,
      "outputs": [
        {
          "output_type": "stream",
          "text": [
            "De entrada pidió: sopa\n",
            "De plato fuerte pidió: tortas\n",
            "De postre pidió: gelatina\n",
            "-------------------------------\n",
            "('sopa', 'tortas', 'gelatina', 'las tortas bien doradas, traer 2 limones')\n",
            "De entrada pidió: sopa\n",
            "De plato fuerte pidió: tortas\n",
            "De postre pidió: gelatina\n"
          ],
          "name": "stdout"
        }
      ]
    },
    {
      "cell_type": "code",
      "metadata": {
        "id": "GdbVDPdWB6DO",
        "outputId": "055ad498-2724-4053-eece-c568a32739cc",
        "colab": {
          "base_uri": "https://localhost:8080/",
          "height": 119
        }
      },
      "source": [
        "# Argumentos posicionales con diccionarios **\n",
        "def comanda3(**opciones):\n",
        "  print(opciones)\n",
        "  for op in opciones.items():\n",
        "    print(f\"{op[0]} -- {op[1]}\")\n",
        "\n",
        "comanda3(primer=\"sopa\",fuerte=\"tortas\",postre=\"gelatina\",extra1=\"las tortas bien doradas\", extra2=\"traer 2 limones\")"
      ],
      "execution_count": 38,
      "outputs": [
        {
          "output_type": "stream",
          "text": [
            "{'primer': 'sopa', 'fuerte': 'tortas', 'postre': 'gelatina', 'extra1': 'las tortas bien doradas', 'extra2': 'traer 2 limones'}\n",
            "primer -- sopa\n",
            "fuerte -- tortas\n",
            "postre -- gelatina\n",
            "extra1 -- las tortas bien doradas\n",
            "extra2 -- traer 2 limones\n"
          ],
          "name": "stdout"
        }
      ]
    }
  ]
}