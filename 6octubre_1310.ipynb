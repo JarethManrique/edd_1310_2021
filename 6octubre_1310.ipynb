{
  "nbformat": 4,
  "nbformat_minor": 0,
  "metadata": {
    "colab": {
      "name": "6octubre_1310.ipynb",
      "provenance": [],
      "authorship_tag": "ABX9TyPvEskv4q4vCo48TXXt9aHV",
      "include_colab_link": true
    },
    "kernelspec": {
      "name": "python3",
      "display_name": "Python 3"
    }
  },
  "cells": [
    {
      "cell_type": "markdown",
      "metadata": {
        "id": "view-in-github",
        "colab_type": "text"
      },
      "source": [
        "<a href=\"https://colab.research.google.com/github/JarethManrique/edd_1310_2021/blob/master/6octubre_1310.ipynb\" target=\"_parent\"><img src=\"https://colab.research.google.com/assets/colab-badge.svg\" alt=\"Open In Colab\"/></a>"
      ]
    },
    {
      "cell_type": "code",
      "metadata": {
        "id": "qu2SCinhq7gl",
        "outputId": "a6f601d1-0e87-4ca5-a9ce-4b0e0138977f",
        "colab": {
          "base_uri": "https://localhost:8080/",
          "height": 153
        }
      },
      "source": [
        "#String continuacion\n",
        "\n",
        "numeros_txt = \"16,   43   , 4 ,  46 ,    1\"\n",
        "print(numeros_txt)\n",
        "numeros_txt = numeros_txt.lstrip().split(\",\")\n",
        "print(numeros_txt)\n",
        "\n",
        "for j in range(len(numeros_txt)):\n",
        "  numeros_txt[ j ] = int(numeros_txt[j].strip())\n",
        "  \n",
        "print(numeros_txt)\n",
        "\n",
        "#Función range\n",
        "#range(inicio, stop, incremento)\n",
        "\n",
        "rango = range(1,10,2)\n",
        "for x in rango:\n",
        "  print(x)\n",
        "#Si no se ingresa un valor, el range siempre inicia en 0\n",
        "\n",
        "\n",
        "\n"
      ],
      "execution_count": 6,
      "outputs": [
        {
          "output_type": "stream",
          "text": [
            "16,   43   , 4 ,  46 ,    1\n",
            "['16', '   43   ', ' 4 ', '  46 ', '    1']\n",
            "[16, 43, 4, 46, 1]\n",
            "1\n",
            "3\n",
            "5\n",
            "7\n",
            "9\n"
          ],
          "name": "stdout"
        }
      ]
    },
    {
      "cell_type": "markdown",
      "metadata": {
        "id": "eITEpuM1w3e-"
      },
      "source": [
        "# Listas\n",
        "-son mutables\n",
        "-se declaran con [ ]\n",
        "-el selector tambien es [ int ]\n",
        "-pueden ser de cualquier tipo y mezclado\n",
        "# Tuplas\n",
        "-no mutables\n",
        "-se declaran con ( )\n",
        "-el selector tambien es [ int ]\n",
        "# diccionarios\n",
        "-son mutables\n",
        "-conjunto de pares llave:valor\n",
        "-son equivalentes a los objetos json de Javascript\n",
        "# conjuntos\n",
        "-representacion de la teoria de conjuntos"
      ]
    },
    {
      "cell_type": "code",
      "metadata": {
        "id": "mstoAmczyNpm",
        "outputId": "752e9735-76ae-45f4-fb71-8d8d361616c6",
        "colab": {
          "base_uri": "https://localhost:8080/",
          "height": 136
        }
      },
      "source": [
        "#Listas (equivalentes a arreglos en java)\n",
        "frutas = [\"Pera\",\"Manzana\",\"fresa\",\"Kiwi\",\"Naranja\"]\n",
        "print(frutas)\n",
        "cosas = [\"cuaderno\", 2, 3.1416, True, False, [\"Rojo\",\"Azul\"]]\n",
        "print(cosas)\n",
        "frutas[2] = \"Fresa\"\n",
        "print(frutas)\n",
        "#Agregar a una lista\n",
        "frutas.append(\"Aguacate\") #append siempre agrega al final\n",
        "print(frutas)\n",
        "#Agrega en la posicion 2 Sandía (posicion, objeto)\n",
        "frutas.insert(2, \"Sandia\")\n",
        "print(frutas)\n",
        "\n",
        "# Concatenar listas\n",
        "fecha = [\"06\", \"10\",\"2020\"] #06/10/2020\n",
        "print(fecha)\n",
        "fecha_str = \"/\".join(fecha)\n",
        "print(fecha_str)"
      ],
      "execution_count": 15,
      "outputs": [
        {
          "output_type": "stream",
          "text": [
            "['Pera', 'Manzana', 'fresa', 'Kiwi', 'Naranja']\n",
            "['cuaderno', 2, 3.1416, True, False, ['Rojo', 'Azul']]\n",
            "['Pera', 'Manzana', 'Fresa', 'Kiwi', 'Naranja']\n",
            "['Pera', 'Manzana', 'Fresa', 'Kiwi', 'Naranja', 'Aguacate']\n",
            "['Pera', 'Manzana', 'Sandia', 'Fresa', 'Kiwi', 'Naranja', 'Aguacate']\n",
            "['06', '10', '2020']\n",
            "06/10/2020\n"
          ],
          "name": "stdout"
        }
      ]
    },
    {
      "cell_type": "code",
      "metadata": {
        "id": "-UIOCdsV3SLw",
        "outputId": "142e5f47-80f7-4837-9410-860d41124925",
        "colab": {
          "base_uri": "https://localhost:8080/",
          "height": 170
        }
      },
      "source": [
        "# Eliminar elementos\n",
        "cosas = [\"cuaderno\", 2, 3.1416, True, False, [\"Rojo\",\"Azul\"]]\n",
        "print(cosas)\n",
        "cosas.append(\"Libro\")\n",
        "cosas.append(\"Lápiz\")\n",
        "print(cosas)\n",
        "algo = cosas.pop() #Lo elimina y lo guarda en la variable \"algo\"\n",
        "print(cosas)\n",
        "print(algo)\n",
        "algo = cosas.pop(2)\n",
        "print(cosas)\n",
        "print(algo)\n",
        "\n",
        "cosas.remove(2) # Remueve la primer coincidencia que está dentro de ()\n",
        "print(cosas)\n",
        "\n",
        "# Vaciar una lista\n",
        "#cosas.clear()\n",
        "#print(cosas)\n",
        "\n",
        "# Ordenar las listas\n",
        "# Para que el sort funcione los datos de la lista tienen que tener coherencia entre ellos\n",
        "print(frutas)\n",
        "frutas.sort()\n",
        "print(frutas)\n",
        "# CON TIPOS DE DATOS MEZCLADOS NO SE PUEDE\n",
        "# \"cosas.sort()\" mandaría error\n"
      ],
      "execution_count": 30,
      "outputs": [
        {
          "output_type": "stream",
          "text": [
            "['cuaderno', 2, 3.1416, True, False, ['Rojo', 'Azul']]\n",
            "['cuaderno', 2, 3.1416, True, False, ['Rojo', 'Azul'], 'Libro', 'Lápiz']\n",
            "['cuaderno', 2, 3.1416, True, False, ['Rojo', 'Azul'], 'Libro']\n",
            "Lápiz\n",
            "['cuaderno', 2, True, False, ['Rojo', 'Azul'], 'Libro']\n",
            "3.1416\n",
            "['cuaderno', True, False, ['Rojo', 'Azul'], 'Libro']\n",
            "['Aguacate', 'Fresa', 'Kiwi', 'Manzana', 'Naranja', 'Pera', 'Sandia']\n",
            "['Aguacate', 'Fresa', 'Kiwi', 'Manzana', 'Naranja', 'Pera', 'Sandia']\n"
          ],
          "name": "stdout"
        }
      ]
    },
    {
      "cell_type": "code",
      "metadata": {
        "id": "AQFoJoS_7Ec8",
        "outputId": "d1698297-b408-44b4-9a3a-0e0e2ea4bbb6",
        "colab": {
          "base_uri": "https://localhost:8080/",
          "height": 102
        }
      },
      "source": [
        "# Slicing\n",
        "\n",
        "cosas = [\"cuaderno\", 2, 3.1416, True, False, [\"Rojo\",\"Azul\"]]\n",
        "print(cosas[3:5:1])\n",
        "print (cosas [0][3:5:1]) # Se le hizo un slicing al String\n",
        "\n",
        "numeros = [1,2,3,4,5,6,7,8,9,10,11,12,13,14,15]\n",
        "print(numeros[7:11])\n",
        "\n",
        "# Sustituir rebanadas   -2,-2\n",
        "numeros[8:13:] = [-2,-2]\n",
        "print(numeros)\n",
        "\n",
        "# Preguntar por una existencia\n",
        "print(-2 in numeros)"
      ],
      "execution_count": 37,
      "outputs": [
        {
          "output_type": "stream",
          "text": [
            "[True, False]\n",
            "de\n",
            "[8, 9, 10, 11]\n",
            "[1, 2, 3, 4, 5, 6, 7, 8, -2, -2, 14, 15]\n",
            "True\n"
          ],
          "name": "stdout"
        }
      ]
    },
    {
      "cell_type": "markdown",
      "metadata": {
        "id": "hPcQDlF8-jHI"
      },
      "source": [
        "# Listas multidimensionales\n",
        "Listas dentro de listas\n",
        "\n"
      ]
    },
    {
      "cell_type": "code",
      "metadata": {
        "id": "x83p2Y-j-qSN",
        "outputId": "4ce5c776-14fa-4f5b-997b-27d3461418a1",
        "colab": {
          "base_uri": "https://localhost:8080/",
          "height": 129
        }
      },
      "source": [
        "computadoras=[\"HP\",\"Macbook Pro\",\"Matebook\",\"Lenovo Legion\"]\n",
        "oss =[\"Windows 10\",\"Linux\",\"Android\",\"IOS\"]\n",
        "computo = [computadoras,oss]\n",
        "print(computo[0])\n",
        "print(computo[1])\n",
        "print(computo[0][2])\n",
        "print(computo[0][2][0:4])\n",
        "print(computo[0][3][5: :-1])\n",
        "\n",
        "dbms = [[\"Mysql\",\"Open Source\",False],[\"MS SQL Server\",\"De paga\",True]]\n",
        "computo.append(dbms)\n",
        "print(computo)\n"
      ],
      "execution_count": 49,
      "outputs": [
        {
          "output_type": "error",
          "ename": "SyntaxError",
          "evalue": "ignored",
          "traceback": [
            "\u001b[0;36m  File \u001b[0;32m\"<ipython-input-49-2e31e1ff87d1>\"\u001b[0;36m, line \u001b[0;32m13\u001b[0m\n\u001b[0;31m    print(computo[2][1][1]])\u001b[0m\n\u001b[0m                          ^\u001b[0m\n\u001b[0;31mSyntaxError\u001b[0m\u001b[0;31m:\u001b[0m invalid syntax\n"
          ]
        }
      ]
    }
  ]
}