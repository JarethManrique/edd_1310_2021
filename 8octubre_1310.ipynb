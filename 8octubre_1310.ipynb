{
  "nbformat": 4,
  "nbformat_minor": 0,
  "metadata": {
    "colab": {
      "name": "8octubre_1310.ipynb",
      "provenance": [],
      "authorship_tag": "ABX9TyNmf/Zd3yc9yLfxB9jfiElx",
      "include_colab_link": true
    },
    "kernelspec": {
      "name": "python3",
      "display_name": "Python 3"
    }
  },
  "cells": [
    {
      "cell_type": "markdown",
      "metadata": {
        "id": "view-in-github",
        "colab_type": "text"
      },
      "source": [
        "<a href=\"https://colab.research.google.com/github/JarethManrique/edd_1310_2021/blob/master/8octubre_1310.ipynb\" target=\"_parent\"><img src=\"https://colab.research.google.com/assets/colab-badge.svg\" alt=\"Open In Colab\"/></a>"
      ]
    },
    {
      "cell_type": "code",
      "metadata": {
        "id": "SmVdHXNJ-XWo"
      },
      "source": [
        "monitores =[[\"Samsung\",\"17.3 \\\"\",1024],[\"BenQ\",\"40\\\"\",2048]]\n",
        "procesadores = [[\"Intel\",\"i7\",3.4],[\"AMD\",\"razzer\",3.3],[\"Intel\",\"i3\",3.1]]\n",
        "memorias = [[\"Kingston\", \"8GB\",\"DDR4\"],[\"Kingston\", \"16GB\",\"DDR3\"],[\"ADATA\", \"32GB\",\"DDR4\"]]\n",
        "\n",
        "componentes = [monitores,procesadores,memorias]\n",
        "print(componentes)\n",
        "print(componentes[2][2][0].lower())"
      ],
      "execution_count": null,
      "outputs": []
    },
    {
      "cell_type": "code",
      "metadata": {
        "id": "OZioHnrsH323",
        "outputId": "15f66b71-e85b-4e17-c3ef-39171572f54f",
        "colab": {
          "base_uri": "https://localhost:8080/",
          "height": 136
        }
      },
      "source": [
        "# Extender listas\n",
        "\n",
        "frutas =[\"manzana\",\"pera\"]\n",
        "otras_frutas = [\"aguacate\",\"sandia\"]\n",
        "\n",
        "# + sobre listas\n",
        "#frutas=frutas+otras_frutas\n",
        "#print(frutas)\n",
        "\n",
        "# Funcion extend\n",
        "#frutas=frutas.extend(otras_frutas)\n",
        "#print(frutas)\n",
        "\n",
        "#frutas.append(otras_frutas)\n",
        "#print(frutas)\n",
        "\n",
        "# Copiar\n",
        "\n",
        "colores=[\"Azul\",\"Verde\",\"Rojo\",\"Violeta\"]\n",
        "otros_colores = colores\n",
        "print(colores)\n",
        "print(otros_colores)\n",
        "otros_colores.append(\"Rosa\")\n",
        "print(colores)\n",
        "print(otros_colores)\n",
        "\n",
        "una_mas=colores.copy()\n",
        "print(una_mas)\n",
        "una_mas.append(\"Negro\")\n",
        "print(una_mas)\n",
        "\n",
        "# Unpacking de listas\n",
        "\n",
        "alumno=[\"Jesus\",\"Pérez\",\"Herrera\",22,\"ICO\",10.0]\n",
        "#nombre=[0]\n",
        "#paterno=[1]\n",
        "\n",
        "# etc.\n",
        "nombre,paterno,materno,edad,carrera,promedio = alumno #Debe haber el mismo numero de variables que de elementos dentro de la lista\n",
        "print(f\"Alumno: {nombre}  Carrera: {carrera}  Promedio= {promedio}\")"
      ],
      "execution_count": 24,
      "outputs": [
        {
          "output_type": "stream",
          "text": [
            "['Azul', 'Verde', 'Rojo', 'Violeta']\n",
            "['Azul', 'Verde', 'Rojo', 'Violeta']\n",
            "['Azul', 'Verde', 'Rojo', 'Violeta', 'Rosa']\n",
            "['Azul', 'Verde', 'Rojo', 'Violeta', 'Rosa']\n",
            "['Azul', 'Verde', 'Rojo', 'Violeta', 'Rosa']\n",
            "['Azul', 'Verde', 'Rojo', 'Violeta', 'Rosa', 'Negro']\n",
            "Alumno: Jesus  Carrera: ICO  Promedio= 10.0\n"
          ],
          "name": "stdout"
        }
      ]
    },
    {
      "cell_type": "markdown",
      "metadata": {
        "id": "M4Wo_Kq4R2ec"
      },
      "source": [
        "# Tuplas\n",
        "- se declaran con (  )\n",
        "- selector con [  ]\n",
        "- NO son mutables\n",
        "\n"
      ]
    },
    {
      "cell_type": "code",
      "metadata": {
        "id": "-Kpb3QTSSPLC",
        "outputId": "c7892a07-07af-4737-ddd4-3ef33038dada",
        "colab": {
          "base_uri": "https://localhost:8080/",
          "height": 51
        }
      },
      "source": [
        "precios = (99.9, 49.9, 12.45, 23.3)\n",
        "print(precios[1])\n",
        "# precios[1] = 50.0\n",
        "print(precios)"
      ],
      "execution_count": 27,
      "outputs": [
        {
          "output_type": "stream",
          "text": [
            "23.3\n",
            "((99.9, 49.9, 12.45), 23.3)\n"
          ],
          "name": "stdout"
        }
      ]
    },
    {
      "cell_type": "markdown",
      "metadata": {
        "id": "t-xIwzZMTo-x"
      },
      "source": [
        "# Diccionarios\n",
        "- se declara con {  }\n",
        "- si son mutables\n",
        "- conjunto de pares llave:valor\n",
        "- equivalente a los JSON de JavaScript\n",
        "- selector [ str ]"
      ]
    },
    {
      "cell_type": "code",
      "metadata": {
        "id": "lC2EXP57T6LP",
        "outputId": "b90407aa-fbda-495a-97e8-e06ba1bcf2c0",
        "colab": {
          "base_uri": "https://localhost:8080/",
          "height": 122
        }
      },
      "source": [
        "cliente = {}\n",
        "print(cliente)\n",
        "alumno = {   \"num_cta\"  :316306564}\n",
        "print(alumno)\n",
        "alumno = { \n",
        "          \"num_cta\" : 303030303 ,\n",
        "          \"carrera\" : \"ICO\",\n",
        "          \"promedio\" : 9.8,\n",
        "          \"materias\" :[\"EDD\",\"CyP\",\"Calidad\",\"Emprendimiento\"],\n",
        "          \"direccion\" : { \n",
        "                            \"calle\":\"rancho seco\",\n",
        "                            \"numero\" : 23 ,\n",
        "                            \"delegacion\" : \"Neza\",\n",
        "                            \"estado\" : {\n",
        "                                        \"id\" : 15 ,\n",
        "                                        \"nombre\" : \"Estado de Máxico\" ,\n",
        "                                        \"nombre_corto\" : \"EdoMex\"\n",
        "                                        } ,\n",
        "                            \"CP\":57170\n",
        "\n",
        "                        } \n",
        "          }\n",
        "print(alumno)\n",
        "print(alumno[\"materias\"])\n",
        "print(alumno[\"direccion\"][\"estado\"][\"nombre_corto\"])"
      ],
      "execution_count": 38,
      "outputs": [
        {
          "output_type": "stream",
          "text": [
            "{}\n",
            "{'num_cta': 316306564}\n",
            "{'num_cta': 303030303, 'carrera': 'ICO', 'promedio': 9.8, 'materias': ['EDD', 'CyP', 'Calidad', 'Emprendimiento'], 'direccion': {'calle': 'rancho seco', 'numero': 23, 'delegacion': 'Neza', 'estado': {'id': 15, 'nombre': 'Estado de Máxico', 'nombre_corto': 'EdoMex'}, 'CP': 57170}}\n",
            "['EDD', 'CyP', 'Calidad', 'Emprendimiento']\n",
            "EdoMex\n"
          ],
          "name": "stdout"
        }
      ]
    }
  ]
}