{
  "nbformat": 4,
  "nbformat_minor": 0,
  "metadata": {
    "colab": {
      "name": "20octubre_1310.ipynb",
      "provenance": [],
      "authorship_tag": "ABX9TyPk2uzpPC7trSEnJ2qrYMu2",
      "include_colab_link": true
    },
    "kernelspec": {
      "name": "python3",
      "display_name": "Python 3"
    }
  },
  "cells": [
    {
      "cell_type": "markdown",
      "metadata": {
        "id": "view-in-github",
        "colab_type": "text"
      },
      "source": [
        "<a href=\"https://colab.research.google.com/github/JarethManrique/edd_1310_2021/blob/master/20octubre_1310.ipynb\" target=\"_parent\"><img src=\"https://colab.research.google.com/assets/colab-badge.svg\" alt=\"Open In Colab\"/></a>"
      ]
    },
    {
      "cell_type": "code",
      "metadata": {
        "id": "reajY9uMwMtc"
      },
      "source": [
        "archivo = open(\"numeros.txt\",\"rt\")\n",
        "for linea in archivo.readlines():\n",
        "  for trunc in linea.split(','):\n",
        "    print(int(trunc.strip()))"
      ],
      "execution_count": null,
      "outputs": []
    },
    {
      "cell_type": "markdown",
      "metadata": {
        "id": "8OI4mONE2spc"
      },
      "source": [
        "# Sintaxis del for en Python\n",
        "\n",
        "dos versiones de for\n",
        "1. range\n",
        "1. in iterator"
      ]
    },
    {
      "cell_type": "code",
      "metadata": {
        "id": "yVPZCBtE3dz-"
      },
      "source": [
        "r = range(0,10,2)\n",
        "for x in r:\n",
        "  print(x)\n",
        "print(\"--------------\")\n",
        "colores = ['rojo','rosa','azul','verde']\n",
        "for indice in range(0,4,1):\n",
        " # print(colores[indice])\n",
        "  colores[indice]=colores[indice].upper()\n",
        "print(\"--------------\")\n",
        "#  for sobreun iterador\n",
        "print(\"for sobre un iterador\")\n",
        "for col in colores:\n",
        "  print(col)"
      ],
      "execution_count": null,
      "outputs": []
    },
    {
      "cell_type": "markdown",
      "metadata": {
        "id": "E5HsaPIz79-D"
      },
      "source": [
        "# Generadores\n",
        "\n",
        "[Valor for x in range()]"
      ]
    },
    {
      "cell_type": "code",
      "metadata": {
        "id": "_Q6cxcF48VeV",
        "outputId": "c3a64dee-f343-46ad-9130-f59f00f5f01a",
        "colab": {
          "base_uri": "https://localhost:8080/",
          "height": 34
        }
      },
      "source": [
        "lista = [0 for x in range(3)]\n",
        "print(lista)"
      ],
      "execution_count": 25,
      "outputs": [
        {
          "output_type": "stream",
          "text": [
            "[0, 0, 0]\n"
          ],
          "name": "stdout"
        }
      ]
    },
    {
      "cell_type": "code",
      "metadata": {
        "id": "uGPUVR_E-a--",
        "outputId": "f9e53c23-457c-429a-99ae-43c06bbccdc7",
        "colab": {
          "base_uri": "https://localhost:8080/",
          "height": 34
        }
      },
      "source": [
        "lista= [[0 for x in range(3)] for z in range(3)]\n",
        "print(lista)"
      ],
      "execution_count": 27,
      "outputs": [
        {
          "output_type": "stream",
          "text": [
            "[[0, 0, 0], [0, 0, 0], [0, 0, 0]]\n"
          ],
          "name": "stdout"
        }
      ]
    },
    {
      "cell_type": "markdown",
      "metadata": {
        "id": "uMk2dtd4_FHR"
      },
      "source": [
        "# POO en Python\n",
        "- clase\n",
        "- creacion de objetos\n",
        "- constructor\n",
        "- encapsulamiento\n",
        "- metodos\n",
        "- atributos\n",
        "- herencia"
      ]
    },
    {
      "cell_type": "code",
      "metadata": {
        "id": "-YqdZUZE_d31",
        "outputId": "ad2e012b-2a4d-40eb-eac2-b11d7ec28c1c",
        "colab": {
          "base_uri": "https://localhost:8080/",
          "height": 34
        }
      },
      "source": [
        "# Self es un mecanismo para ajustar el lenguaje python a POO\n",
        "class Computadora:\n",
        "  def __init__( self, m , p ):\n",
        "    self.__marca= m\n",
        "    self.__procesador= p \n",
        "  def to_string( self ):\n",
        "    return \"Marca: \"+self.__marca+\"Procesador: \"+self.__procesador\n",
        "\n",
        "mi_pc = Computadora(\"Toshiba\",\"Intel i7\")\n",
        "mi_pc.__marca=\"HP\"\n",
        "print(mi_pc.to_string())"
      ],
      "execution_count": 39,
      "outputs": [
        {
          "output_type": "stream",
          "text": [
            "Marca: ToshibaProcesador: Intel i7\n"
          ],
          "name": "stdout"
        }
      ]
    }
  ]
}