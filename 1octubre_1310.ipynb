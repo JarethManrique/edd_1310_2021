{
  "nbformat": 4,
  "nbformat_minor": 0,
  "metadata": {
    "colab": {
      "name": "1octubre_1310.ipynb",
      "provenance": [],
      "authorship_tag": "ABX9TyM/JITyopOfhg+7DZGcK/iq",
      "include_colab_link": true
    },
    "kernelspec": {
      "name": "python3",
      "display_name": "Python 3"
    }
  },
  "cells": [
    {
      "cell_type": "markdown",
      "metadata": {
        "id": "view-in-github",
        "colab_type": "text"
      },
      "source": [
        "<a href=\"https://colab.research.google.com/github/JarethManrique/edd_1310_2021/blob/master/1octubre_1310.ipynb\" target=\"_parent\"><img src=\"https://colab.research.google.com/assets/colab-badge.svg\" alt=\"Open In Colab\"/></a>"
      ]
    },
    {
      "cell_type": "code",
      "metadata": {
        "id": "Qsl8k8pJ7UvU"
      },
      "source": [
        ""
      ],
      "execution_count": null,
      "outputs": []
    },
    {
      "cell_type": "markdown",
      "metadata": {
        "id": "N7p-L-JZ7r2R"
      },
      "source": [
        "# Intro Python\n",
        "### Variables\n",
        "tipo dinámico\n",
        "escuela = \"Fes Aragón\""
      ]
    },
    {
      "cell_type": "code",
      "metadata": {
        "id": "gTgCwKuk8FdZ",
        "outputId": "0bcf5fb1-cd87-434b-9464-8918c86cae91",
        "colab": {
          "base_uri": "https://localhost:8080/",
          "height": 187
        }
      },
      "source": [
        "escuela = \"FES Aragón\"\n",
        "print(escuela)\n",
        "print(\"---------\")\n",
        "edad = 13\n",
        "estatura = 1.67\n",
        "fumador = True\n",
        "frase = \"\"\"\n",
        "Esta es \n",
        "una \n",
        "frase\n",
        "de multiples líneas\n",
        "y tambien es\n",
        "un tipo de dato\n",
        "\"\"\"\n",
        "print(frase)\n",
        "nombre = 'jose'\n",
        "nombre_completo = \"jose sosa cardenas\""
      ],
      "execution_count": 6,
      "outputs": [
        {
          "output_type": "stream",
          "text": [
            "FES Aragón\n",
            "---------\n",
            "\n",
            "Esta es \n",
            "una \n",
            "frase\n",
            "de multiples líneas\n",
            "y tambien es\n",
            "un tipo de dato\n",
            "\n"
          ],
          "name": "stdout"
        }
      ]
    },
    {
      "cell_type": "markdown",
      "metadata": {
        "id": "JgmiGwcm91qo"
      },
      "source": [
        "# Print\n",
        "con comas ,\n",
        "con signo +\n",
        "con format()\n",
        "con el operador f\"\""
      ]
    },
    {
      "cell_type": "code",
      "metadata": {
        "id": "C15D2gnF-BBh",
        "outputId": "16300e05-41d6-4b00-e57e-897b72576fb4",
        "colab": {
          "base_uri": "https://localhost:8080/",
          "height": 34
        }
      },
      "source": [
        "print(nombre,edad)"
      ],
      "execution_count": 7,
      "outputs": [
        {
          "output_type": "stream",
          "text": [
            "jose 13\n"
          ],
          "name": "stdout"
        }
      ]
    },
    {
      "cell_type": "code",
      "metadata": {
        "id": "7J2t1g3p_COw",
        "outputId": "bb42502f-3ac3-4664-a7c6-9f569b45de16",
        "colab": {
          "base_uri": "https://localhost:8080/",
          "height": 51
        }
      },
      "source": [
        "# ++ Concatena\n",
        "print(nombre + str(edad))\n",
        "print(nombre + nombre_completo)"
      ],
      "execution_count": 9,
      "outputs": [
        {
          "output_type": "stream",
          "text": [
            "jose13\n",
            "josejose sosa cardenas\n"
          ],
          "name": "stdout"
        }
      ]
    },
    {
      "cell_type": "code",
      "metadata": {
        "id": "_YOnnEOLAS3X",
        "outputId": "f345dd7f-3c92-4517-afc8-87b175367634",
        "colab": {
          "base_uri": "https://localhost:8080/",
          "height": 51
        }
      },
      "source": [
        "# Con formato \n",
        "print(\"Su nombre es\",nombre,\"y su edad es de\",edad,\"años\")\n",
        "print(\"Su nombre es {0} y su edad es de {1} años\".format(nombre,edad))"
      ],
      "execution_count": 14,
      "outputs": [
        {
          "output_type": "stream",
          "text": [
            "Su nombre es jose y su edad es de 13 años\n",
            "Su nombre es jose y su edad es de 13 años\n"
          ],
          "name": "stdout"
        }
      ]
    },
    {
      "cell_type": "code",
      "metadata": {
        "id": "ueo218YIBur_",
        "outputId": "01db40f1-9b7f-4a0f-bc6f-547ec5477153",
        "colab": {
          "base_uri": "https://localhost:8080/",
          "height": 34
        }
      },
      "source": [
        "# Con formato con el operador f\"\"\n",
        "print(f\"Su nombre es {nombre} y su edad es de {edad} años\")"
      ],
      "execution_count": 16,
      "outputs": [
        {
          "output_type": "stream",
          "text": [
            "Su nombre es jose y su edad es de 13 años\n"
          ],
          "name": "stdout"
        }
      ]
    },
    {
      "cell_type": "markdown",
      "metadata": {
        "id": "B3woL9Y_COgF"
      },
      "source": [
        "# Caracter de escape\n",
        "\\n salto de linea\n",
        "\\t tabulador\n",
        "\\a beep\n",
        "\\\" imprimir comilla doble\n",
        "\\' imprimir comilla simple\n"
      ]
    },
    {
      "cell_type": "code",
      "metadata": {
        "id": "vXB4eXZaDenz",
        "outputId": "feafb90c-fa19-4fd7-8bde-e52b2d176685",
        "colab": {
          "base_uri": "https://localhost:8080/",
          "height": 51
        }
      },
      "source": [
        "\"\"\"\n",
        "Esto es un comentario que se ignora\n",
        "\"\"\"\n",
        "print(f\"\\t mi nombre es \\n\\t{nombre}\")"
      ],
      "execution_count": 17,
      "outputs": [
        {
          "output_type": "stream",
          "text": [
            "\t mi nombre es \n",
            "\tjose\n"
          ],
          "name": "stdout"
        }
      ]
    },
    {
      "cell_type": "markdown",
      "metadata": {
        "id": "LrpiHvIoD9d_"
      },
      "source": [
        "# Ayuda de tipos en Python\n",
        "dir()\n",
        "help()"
      ]
    },
    {
      "cell_type": "code",
      "metadata": {
        "id": "wpBG8V5vEOCu"
      },
      "source": [
        "# str, int, bool, float...list, dict, set\n",
        "help(str)"
      ],
      "execution_count": null,
      "outputs": []
    },
    {
      "cell_type": "code",
      "metadata": {
        "id": "BU975_xsFMoG",
        "outputId": "d1ba3160-b46f-467d-9ee2-648b6f91b5e2",
        "colab": {
          "base_uri": "https://localhost:8080/",
          "height": 68
        }
      },
      "source": [
        "print(nombre_completo.capitalize() )\n",
        "print(nombre_completo.upper() )\n",
        "print(nombre_completo.title())"
      ],
      "execution_count": 25,
      "outputs": [
        {
          "output_type": "stream",
          "text": [
            "Jose sosa cardenas\n",
            "JOSE SOSA CARDENAS\n",
            "Jose Sosa Cardenas\n"
          ],
          "name": "stdout"
        }
      ]
    },
    {
      "cell_type": "markdown",
      "metadata": {
        "id": "0nJh4q8jGpby"
      },
      "source": [
        "# Clase String\n",
        "Es manejada como un arreglo (en C o Java) o lista (Python)\n"
      ]
    },
    {
      "cell_type": "code",
      "metadata": {
        "id": "E-MPoaXRHxCr",
        "outputId": "353f2f3d-deee-4b21-ac22-75f4d6463201",
        "colab": {
          "base_uri": "https://localhost:8080/",
          "height": 34
        }
      },
      "source": [
        "telefono = \"Huawei Mate 30 Pro\"\n",
        "print(telefono[0])"
      ],
      "execution_count": 27,
      "outputs": [
        {
          "output_type": "stream",
          "text": [
            "i\n"
          ],
          "name": "stdout"
        }
      ]
    },
    {
      "cell_type": "markdown",
      "metadata": {
        "id": "m4Xcx5XTIJ1K"
      },
      "source": [
        "# Slacing (rebanado)\n",
        "[inicio:stop:incremento]"
      ]
    },
    {
      "cell_type": "code",
      "metadata": {
        "id": "dtTrkkzJIhZR",
        "outputId": "6af3a801-add0-4c1c-eeed-40b05e26eaa4",
        "colab": {
          "base_uri": "https://localhost:8080/",
          "height": 68
        }
      },
      "source": [
        "print(telefono[7:11:1])\n",
        "#El inicio y el incremento son opcionales\n",
        "print(telefono[:11:])\n",
        "#Incremento negativo\n",
        "print(telefono[::-1])\n",
        "#"
      ],
      "execution_count": 32,
      "outputs": [
        {
          "output_type": "stream",
          "text": [
            "Mate\n",
            "Huawei Mate\n",
            "orP 03 etaM iewauH\n"
          ],
          "name": "stdout"
        }
      ]
    },
    {
      "cell_type": "markdown",
      "metadata": {
        "id": "ddwP7466NNL6"
      },
      "source": [
        "# Métodos de String\n",
        "Existen métodos muy útiles en esta clase."
      ]
    },
    {
      "cell_type": "code",
      "metadata": {
        "id": "ZgIbLwadNWnV",
        "outputId": "fe8b9fc7-ef6e-40df-986c-64fbaae35c56",
        "colab": {
          "base_uri": "https://localhost:8080/",
          "height": 255
        }
      },
      "source": [
        "facultad = \"    facultad de estudios superiores aragon      \"\n",
        "print(facultad.count(\"u\")) #Cuenta el numero de elementos en la lista\n",
        "print(facultad.find(\"s\"))\n",
        "print(facultad)\n",
        "print(facultad.strip()) #Quita los espacios del principio y el final, y tambien quita los saltos de linea\n",
        "tamaño=len(facultad)\n",
        "print(len(facultad))\n",
        "print(f\"el tamaño de la lista es de {tamaño} caracteres\")\n",
        "print(facultad.split(\"t\")) #Divide la lista quitando el caracter selccionado\n",
        "print(facultad.strip().split(\" \"))\n",
        "\n",
        "print(\"-------------------------------------\")\n",
        "#Copiar cadenas\n",
        "otra_cadena=facultad\n",
        "print(otra_cadena)\n",
        "facultad=\"Fes Aragón\"\n",
        "#Copiar listas\n",
        "colores=[\"rojo\",\"verde\"]\n",
        "otra = colores.copy()\n",
        "print(colores)\n",
        "print(otra)\n",
        "otra.append(\"Rosa\")\n",
        "print(colores)\n",
        "print(otra)"
      ],
      "execution_count": 51,
      "outputs": [
        {
          "output_type": "stream",
          "text": [
            "3\n",
            "17\n",
            "    facultad de estudios superiores aragon      \n",
            "facultad de estudios superiores aragon\n",
            "48\n",
            "el tamaño de la lista es de 48 caracteres\n",
            "['    facul', 'ad de es', 'udios superiores aragon      ']\n",
            "['facultad', 'de', 'estudios', 'superiores', 'aragon']\n",
            "-------------------------------------\n",
            "    facultad de estudios superiores aragon      \n",
            "['rojo', 'verde']\n",
            "['rojo', 'verde']\n",
            "['rojo', 'verde']\n",
            "['rojo', 'verde', 'Rosa']\n"
          ],
          "name": "stdout"
        }
      ]
    }
  ]
}